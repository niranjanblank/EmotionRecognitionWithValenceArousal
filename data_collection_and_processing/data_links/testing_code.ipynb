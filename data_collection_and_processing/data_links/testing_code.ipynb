{
 "cells": [
  {
   "cell_type": "code",
   "execution_count": 1,
   "metadata": {
    "collapsed": true,
    "ExecuteTime": {
     "end_time": "2023-07-21T12:05:30.001027800Z",
     "start_time": "2023-07-21T12:05:29.569637700Z"
    }
   },
   "outputs": [],
   "source": [
    "import pandas as pd"
   ]
  },
  {
   "cell_type": "code",
   "execution_count": 2,
   "outputs": [],
   "source": [
    "# reading the file\n",
    "data_frame = pd.read_csv('omg_ValidationVideos.csv')"
   ],
   "metadata": {
    "collapsed": false,
    "ExecuteTime": {
     "end_time": "2023-07-21T12:06:42.670196400Z",
     "start_time": "2023-07-21T12:06:42.636339500Z"
    }
   }
  },
  {
   "cell_type": "code",
   "execution_count": 3,
   "outputs": [
    {
     "data": {
      "text/plain": "Index(['link', 'start', 'end', 'video', 'utterance', 'arousal', 'valence',\n       'EmotionMaxVote'],\n      dtype='object')"
     },
     "execution_count": 3,
     "metadata": {},
     "output_type": "execute_result"
    }
   ],
   "source": [
    "data_frame.columns"
   ],
   "metadata": {
    "collapsed": false,
    "ExecuteTime": {
     "end_time": "2023-07-21T12:06:47.460269200Z",
     "start_time": "2023-07-21T12:06:47.447933500Z"
    }
   }
  },
  {
   "cell_type": "code",
   "execution_count": 5,
   "outputs": [
    {
     "data": {
      "text/plain": "                                           link       start         end  \\\n0   https://www.youtube.com/watch?v=xfsvvbTlR38    0.875751   16.931191   \n1   https://www.youtube.com/watch?v=xfsvvbTlR38   17.223108   32.861523   \n2   https://www.youtube.com/watch?v=xfsvvbTlR38   33.862382   34.738133   \n3   https://www.youtube.com/watch?v=xfsvvbTlR38   35.030050   37.031767   \n4   https://www.youtube.com/watch?v=xfsvvbTlR38   37.365387   38.533055   \n5   https://www.youtube.com/watch?v=xfsvvbTlR38   39.408806   40.701582   \n6   https://www.youtube.com/watch?v=xfsvvbTlR38   41.160309   42.453084   \n7   https://www.youtube.com/watch?v=xfsvvbTlR38   42.619894   43.996075   \n8   https://www.youtube.com/watch?v=xfsvvbTlR38   44.079480   48.166319   \n9   https://www.youtube.com/watch?v=xfsvvbTlR38   48.750153   49.751011   \n10  https://www.youtube.com/watch?v=xfsvvbTlR38   49.917821   54.588495   \n11  https://www.youtube.com/watch?v=xfsvvbTlR38   55.172329   63.637924   \n12  https://www.youtube.com/watch?v=xfsvvbTlR38   63.637924   70.268612   \n13  https://www.youtube.com/watch?v=xfsvvbTlR38   70.643934   72.603949   \n14  https://www.youtube.com/watch?v=xfsvvbTlR38   72.687354   77.524837   \n15  https://www.youtube.com/watch?v=xfsvvbTlR38   78.233778   84.072120   \n16  https://www.youtube.com/watch?v=xfsvvbTlR38   84.072120   86.866183   \n17  https://www.youtube.com/watch?v=xfsvvbTlR38   87.283208   96.332637   \n18  https://www.youtube.com/watch?v=xfsvvbTlR38   96.916472  101.753955   \n19  https://www.youtube.com/watch?v=xfsvvbTlR38  101.879062  113.847662   \n\n        video         utterance   arousal   valence  EmotionMaxVote  \n0   74de88564   utterance_1.mp4  0.057387  0.114515               4  \n1   74de88564   utterance_2.mp4  0.182124  0.255682               4  \n2   74de88564   utterance_3.mp4  0.334812  0.065884               4  \n3   74de88564   utterance_4.mp4  0.509277  0.081005               4  \n4   74de88564   utterance_5.mp4  0.288493 -0.089828               4  \n5   74de88564   utterance_6.mp4  0.541360  0.141358               6  \n6   74de88564   utterance_7.mp4  0.241240 -0.141829               5  \n7   74de88564   utterance_8.mp4  0.164040 -0.182141               5  \n8   74de88564   utterance_9.mp4  0.108649 -0.006749               3  \n9   74de88564  utterance_10.mp4  0.058596 -0.030417               4  \n10  74de88564  utterance_11.mp4  0.231266  0.230572               4  \n11  74de88564  utterance_12.mp4  0.147698  0.114747               4  \n12  74de88564  utterance_13.mp4  0.265410  0.249486               4  \n13  74de88564  utterance_14.mp4  0.128848  0.140706               4  \n14  74de88564  utterance_15.mp4  0.143889  0.182774               4  \n15  74de88564  utterance_16.mp4  0.361962  0.446866               3  \n16  74de88564  utterance_17.mp4  0.161917  0.239649               4  \n17  74de88564  utterance_18.mp4  0.469498  0.270665               4  \n18  74de88564  utterance_19.mp4  0.362078  0.475700               3  \n19  74de88564  utterance_20.mp4  0.297801  0.252218               4  ",
      "text/html": "<div>\n<style scoped>\n    .dataframe tbody tr th:only-of-type {\n        vertical-align: middle;\n    }\n\n    .dataframe tbody tr th {\n        vertical-align: top;\n    }\n\n    .dataframe thead th {\n        text-align: right;\n    }\n</style>\n<table border=\"1\" class=\"dataframe\">\n  <thead>\n    <tr style=\"text-align: right;\">\n      <th></th>\n      <th>link</th>\n      <th>start</th>\n      <th>end</th>\n      <th>video</th>\n      <th>utterance</th>\n      <th>arousal</th>\n      <th>valence</th>\n      <th>EmotionMaxVote</th>\n    </tr>\n  </thead>\n  <tbody>\n    <tr>\n      <th>0</th>\n      <td>https://www.youtube.com/watch?v=xfsvvbTlR38</td>\n      <td>0.875751</td>\n      <td>16.931191</td>\n      <td>74de88564</td>\n      <td>utterance_1.mp4</td>\n      <td>0.057387</td>\n      <td>0.114515</td>\n      <td>4</td>\n    </tr>\n    <tr>\n      <th>1</th>\n      <td>https://www.youtube.com/watch?v=xfsvvbTlR38</td>\n      <td>17.223108</td>\n      <td>32.861523</td>\n      <td>74de88564</td>\n      <td>utterance_2.mp4</td>\n      <td>0.182124</td>\n      <td>0.255682</td>\n      <td>4</td>\n    </tr>\n    <tr>\n      <th>2</th>\n      <td>https://www.youtube.com/watch?v=xfsvvbTlR38</td>\n      <td>33.862382</td>\n      <td>34.738133</td>\n      <td>74de88564</td>\n      <td>utterance_3.mp4</td>\n      <td>0.334812</td>\n      <td>0.065884</td>\n      <td>4</td>\n    </tr>\n    <tr>\n      <th>3</th>\n      <td>https://www.youtube.com/watch?v=xfsvvbTlR38</td>\n      <td>35.030050</td>\n      <td>37.031767</td>\n      <td>74de88564</td>\n      <td>utterance_4.mp4</td>\n      <td>0.509277</td>\n      <td>0.081005</td>\n      <td>4</td>\n    </tr>\n    <tr>\n      <th>4</th>\n      <td>https://www.youtube.com/watch?v=xfsvvbTlR38</td>\n      <td>37.365387</td>\n      <td>38.533055</td>\n      <td>74de88564</td>\n      <td>utterance_5.mp4</td>\n      <td>0.288493</td>\n      <td>-0.089828</td>\n      <td>4</td>\n    </tr>\n    <tr>\n      <th>5</th>\n      <td>https://www.youtube.com/watch?v=xfsvvbTlR38</td>\n      <td>39.408806</td>\n      <td>40.701582</td>\n      <td>74de88564</td>\n      <td>utterance_6.mp4</td>\n      <td>0.541360</td>\n      <td>0.141358</td>\n      <td>6</td>\n    </tr>\n    <tr>\n      <th>6</th>\n      <td>https://www.youtube.com/watch?v=xfsvvbTlR38</td>\n      <td>41.160309</td>\n      <td>42.453084</td>\n      <td>74de88564</td>\n      <td>utterance_7.mp4</td>\n      <td>0.241240</td>\n      <td>-0.141829</td>\n      <td>5</td>\n    </tr>\n    <tr>\n      <th>7</th>\n      <td>https://www.youtube.com/watch?v=xfsvvbTlR38</td>\n      <td>42.619894</td>\n      <td>43.996075</td>\n      <td>74de88564</td>\n      <td>utterance_8.mp4</td>\n      <td>0.164040</td>\n      <td>-0.182141</td>\n      <td>5</td>\n    </tr>\n    <tr>\n      <th>8</th>\n      <td>https://www.youtube.com/watch?v=xfsvvbTlR38</td>\n      <td>44.079480</td>\n      <td>48.166319</td>\n      <td>74de88564</td>\n      <td>utterance_9.mp4</td>\n      <td>0.108649</td>\n      <td>-0.006749</td>\n      <td>3</td>\n    </tr>\n    <tr>\n      <th>9</th>\n      <td>https://www.youtube.com/watch?v=xfsvvbTlR38</td>\n      <td>48.750153</td>\n      <td>49.751011</td>\n      <td>74de88564</td>\n      <td>utterance_10.mp4</td>\n      <td>0.058596</td>\n      <td>-0.030417</td>\n      <td>4</td>\n    </tr>\n    <tr>\n      <th>10</th>\n      <td>https://www.youtube.com/watch?v=xfsvvbTlR38</td>\n      <td>49.917821</td>\n      <td>54.588495</td>\n      <td>74de88564</td>\n      <td>utterance_11.mp4</td>\n      <td>0.231266</td>\n      <td>0.230572</td>\n      <td>4</td>\n    </tr>\n    <tr>\n      <th>11</th>\n      <td>https://www.youtube.com/watch?v=xfsvvbTlR38</td>\n      <td>55.172329</td>\n      <td>63.637924</td>\n      <td>74de88564</td>\n      <td>utterance_12.mp4</td>\n      <td>0.147698</td>\n      <td>0.114747</td>\n      <td>4</td>\n    </tr>\n    <tr>\n      <th>12</th>\n      <td>https://www.youtube.com/watch?v=xfsvvbTlR38</td>\n      <td>63.637924</td>\n      <td>70.268612</td>\n      <td>74de88564</td>\n      <td>utterance_13.mp4</td>\n      <td>0.265410</td>\n      <td>0.249486</td>\n      <td>4</td>\n    </tr>\n    <tr>\n      <th>13</th>\n      <td>https://www.youtube.com/watch?v=xfsvvbTlR38</td>\n      <td>70.643934</td>\n      <td>72.603949</td>\n      <td>74de88564</td>\n      <td>utterance_14.mp4</td>\n      <td>0.128848</td>\n      <td>0.140706</td>\n      <td>4</td>\n    </tr>\n    <tr>\n      <th>14</th>\n      <td>https://www.youtube.com/watch?v=xfsvvbTlR38</td>\n      <td>72.687354</td>\n      <td>77.524837</td>\n      <td>74de88564</td>\n      <td>utterance_15.mp4</td>\n      <td>0.143889</td>\n      <td>0.182774</td>\n      <td>4</td>\n    </tr>\n    <tr>\n      <th>15</th>\n      <td>https://www.youtube.com/watch?v=xfsvvbTlR38</td>\n      <td>78.233778</td>\n      <td>84.072120</td>\n      <td>74de88564</td>\n      <td>utterance_16.mp4</td>\n      <td>0.361962</td>\n      <td>0.446866</td>\n      <td>3</td>\n    </tr>\n    <tr>\n      <th>16</th>\n      <td>https://www.youtube.com/watch?v=xfsvvbTlR38</td>\n      <td>84.072120</td>\n      <td>86.866183</td>\n      <td>74de88564</td>\n      <td>utterance_17.mp4</td>\n      <td>0.161917</td>\n      <td>0.239649</td>\n      <td>4</td>\n    </tr>\n    <tr>\n      <th>17</th>\n      <td>https://www.youtube.com/watch?v=xfsvvbTlR38</td>\n      <td>87.283208</td>\n      <td>96.332637</td>\n      <td>74de88564</td>\n      <td>utterance_18.mp4</td>\n      <td>0.469498</td>\n      <td>0.270665</td>\n      <td>4</td>\n    </tr>\n    <tr>\n      <th>18</th>\n      <td>https://www.youtube.com/watch?v=xfsvvbTlR38</td>\n      <td>96.916472</td>\n      <td>101.753955</td>\n      <td>74de88564</td>\n      <td>utterance_19.mp4</td>\n      <td>0.362078</td>\n      <td>0.475700</td>\n      <td>3</td>\n    </tr>\n    <tr>\n      <th>19</th>\n      <td>https://www.youtube.com/watch?v=xfsvvbTlR38</td>\n      <td>101.879062</td>\n      <td>113.847662</td>\n      <td>74de88564</td>\n      <td>utterance_20.mp4</td>\n      <td>0.297801</td>\n      <td>0.252218</td>\n      <td>4</td>\n    </tr>\n  </tbody>\n</table>\n</div>"
     },
     "execution_count": 5,
     "metadata": {},
     "output_type": "execute_result"
    }
   ],
   "source": [
    "data_frame.head(20)"
   ],
   "metadata": {
    "collapsed": false,
    "ExecuteTime": {
     "end_time": "2023-07-21T12:08:56.214873900Z",
     "start_time": "2023-07-21T12:08:56.200926200Z"
    }
   }
  },
  {
   "cell_type": "code",
   "execution_count": 14,
   "outputs": [],
   "source": [
    "data_frame['id'] = 'valid_id_' + data_frame.groupby('link').ngroup().astype(str)"
   ],
   "metadata": {
    "collapsed": false,
    "ExecuteTime": {
     "end_time": "2023-07-21T12:18:30.677104300Z",
     "start_time": "2023-07-21T12:18:30.658224500Z"
    }
   }
  },
  {
   "cell_type": "code",
   "execution_count": 19,
   "outputs": [],
   "source": [
    "def add_id_to_videos(filepath,dataset_type,output_path):\n",
    "    '''\n",
    "\n",
    "    :param filepath: path of the initial data_link.csv\n",
    "    :param dataset_type: train, valid or test\n",
    "    :param output_path: path of file to be saved\n",
    "    :return: message showing if complete or not\n",
    "    '''\n",
    "    df = pd.read_csv(filepath)\n",
    "    df['id'] = dataset_type+'_id_' + df.groupby('link').ngroup().astype(str)\n",
    "    try:\n",
    "        df.to_csv(output_path,index=False)\n",
    "        return f'data saved to: {output_path}'\n",
    "    except:\n",
    "        return f'Couldn\\'nt save the data'\n"
   ],
   "metadata": {
    "collapsed": false,
    "ExecuteTime": {
     "end_time": "2023-07-21T12:29:12.930330200Z",
     "start_time": "2023-07-21T12:29:12.914264Z"
    }
   }
  },
  {
   "cell_type": "code",
   "execution_count": 20,
   "outputs": [
    {
     "data": {
      "text/plain": "'data saved to: valid.csv'"
     },
     "execution_count": 20,
     "metadata": {},
     "output_type": "execute_result"
    }
   ],
   "source": [
    "add_id_to_videos('omg_ValidationVideos.csv','valid','valid.csv')"
   ],
   "metadata": {
    "collapsed": false,
    "ExecuteTime": {
     "end_time": "2023-07-21T12:29:42.068204300Z",
     "start_time": "2023-07-21T12:29:42.050204700Z"
    }
   }
  },
  {
   "cell_type": "code",
   "execution_count": 6,
   "outputs": [],
   "source": [
    "## downloading file from youtube\n",
    "import pytube\n",
    "from pathlib import Path"
   ],
   "metadata": {
    "collapsed": false,
    "ExecuteTime": {
     "end_time": "2023-07-27T13:29:03.586116100Z",
     "start_time": "2023-07-27T13:29:03.578591400Z"
    }
   }
  },
  {
   "cell_type": "code",
   "execution_count": 2,
   "outputs": [],
   "source": [
    "link=\"https://www.youtube.com/watch?v=Vj4Y1c-DSM0&ab_channel=Pillsbury\""
   ],
   "metadata": {
    "collapsed": false,
    "ExecuteTime": {
     "end_time": "2023-07-27T13:17:17.345808100Z",
     "start_time": "2023-07-27T13:17:17.338591700Z"
    }
   }
  },
  {
   "cell_type": "code",
   "execution_count": 3,
   "outputs": [],
   "source": [
    "yt = pytube.YouTube(link)"
   ],
   "metadata": {
    "collapsed": false,
    "ExecuteTime": {
     "end_time": "2023-07-27T13:17:30.963624Z",
     "start_time": "2023-07-27T13:17:30.956622300Z"
    }
   }
  },
  {
   "cell_type": "code",
   "execution_count": 8,
   "outputs": [
    {
     "data": {
      "text/plain": "'D:\\\\Projects\\\\EmotionRecognitionWithValenceArousal\\\\data_collection_and_processing\\\\data_links\\\\validation/video.mp4'"
     },
     "execution_count": 8,
     "metadata": {},
     "output_type": "execute_result"
    }
   ],
   "source": [
    "current_directory = Path.cwd()\n",
    "path = current_directory / 'validation'\n",
    "if not path.exists():\n",
    "    path.mkdir(parents=True)\n",
    "yt.streams.filter(only_video=True).get_highest_resolution().download(filename=f'{path}/video.mp4')"
   ],
   "metadata": {
    "collapsed": false,
    "ExecuteTime": {
     "end_time": "2023-07-27T13:36:32.778185700Z",
     "start_time": "2023-07-27T13:36:31.210619400Z"
    }
   }
  },
  {
   "cell_type": "code",
   "execution_count": null,
   "outputs": [],
   "source": [],
   "metadata": {
    "collapsed": false
   }
  }
 ],
 "metadata": {
  "kernelspec": {
   "display_name": "Python 3",
   "language": "python",
   "name": "python3"
  },
  "language_info": {
   "codemirror_mode": {
    "name": "ipython",
    "version": 2
   },
   "file_extension": ".py",
   "mimetype": "text/x-python",
   "name": "python",
   "nbconvert_exporter": "python",
   "pygments_lexer": "ipython2",
   "version": "2.7.6"
  }
 },
 "nbformat": 4,
 "nbformat_minor": 0
}
